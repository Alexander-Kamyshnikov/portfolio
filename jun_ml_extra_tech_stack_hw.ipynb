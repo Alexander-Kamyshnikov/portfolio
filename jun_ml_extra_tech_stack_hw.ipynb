{
 "cells": [
  {
   "cell_type": "markdown",
   "metadata": {
    "colab_type": "text",
    "id": "YTnbWDwjNqBj"
   },
   "source": [
    "# Stacking\n",
    "\n",
    "Несмотря на то, что в открытом доступе существует довольно много реализаций стекинга, некоторые из которых даже представлены в виде библиотечных функций, лучше сделать собственную. Стекинг - не классический алгоритм решения задачи, а скорее набор правил для помощи в решении задачи другим алгоритмам. Если вы серьезно займетесь машинным обучением, рано или поздно вам скорее всего захочется что-нибудь поменять в этом наборе правил, поэтому собственная реализация с понятным вам кодом будет как нельзя кстати. \n",
    "Создадим свою функцию стеккинга:"
   ]
  },
  {
   "cell_type": "code",
   "execution_count": 3,
   "metadata": {
    "colab": {},
    "colab_type": "code",
    "id": "vVIUJhUMNqBl"
   },
   "outputs": [],
   "source": [
    "from sklearn.model_selection import cross_val_predict\n",
    "from sklearn.model_selection import StratifiedKFold\n",
    "from sklearn.model_selection import train_test_split\n",
    "from sklearn.metrics import roc_auc_score\n",
    "\n",
    "import pandas as pd\n",
    "import numpy as np\n",
    "\n",
    "import warnings\n",
    "warnings.filterwarnings('ignore')"
   ]
  },
  {
   "cell_type": "code",
   "execution_count": 4,
   "metadata": {
    "colab": {},
    "colab_type": "code",
    "id": "1aYbDelYNqBu"
   },
   "outputs": [],
   "source": [
    "def stacking(models, meta_alg, data_train, targets_train, data_test, targets_test=None, random_state=None, test_size=None, cv=5):\n",
    "    \n",
    "    \n",
    "    ### функция стеккинга, принимающая на вход: \n",
    "    ### models - список моделей,\n",
    "    ### meta_alg - модель на основе которой будет выдаваться предикт по стеккингу\n",
    "    ### data_train - тренировочные данные\n",
    "    ### targets_train - тренировочные целевые признаки\n",
    "    ### data_test - тестовые данные\n",
    "    ### targets_test - тестовые целевые признаки (по умалчанию None)\n",
    "    ### random_state - по умолчанию None\n",
    "    ### test_size - размер тестовой выборки ( по умолчанию None)\n",
    "    \n",
    "    \n",
    "    if test_size is None:                                           # если размер выборки не задан - сделаем predict\n",
    "                                                                    # с помощью  cross_val_predict\n",
    "        meta_mtrx = np.empty((data_train.shape[0], len(models)))    # определим матрицу мета признаков\n",
    "        \n",
    "        for n, model in enumerate(models):                          # заполним матрицу признаков значениями cross_val_predict\n",
    "            meta_mtrx[:, n] = cross_val_predict(model, data_train, targets_train, cv=cv, method='predict')\n",
    "            model.fit(data_train, targets_train)                    # обучим наши модели\n",
    "        meta = meta_alg\n",
    "        meta_model = meta.fit(meta_mtrx, targets_train)             # обучим мета-алгоритм на матрице признаков\n",
    "        \n",
    "        meta_mtrx_test = np.empty((data_test.shape[0], len(models)))#определим матрицу мета признаков\n",
    "        \n",
    "        for n, model in enumerate(models):\n",
    "            meta_mtrx_test[:, n] = model.predict(data_test)         # заполним матрицу предиктами на тестовых данных\n",
    "    \n",
    "        meta_predict = meta_model.predict(meta_mtrx_test)           # cделаем предикт для матрицы meta_mtrx_test\n",
    "\n",
    "        if targets_test != None:                                    # выведем roc_auc_score\n",
    "            roc_auc = roc_auc_score(targets_test, meta_predict)\n",
    "            print(f'Stacking AUC: {roc_auc_score(targets_test, meta_predict)}')\n",
    "            \n",
    "        return meta_predict\n",
    "    \n",
    "    elif test_size > 0 and test_size < 1:                           # если размер выборки задан - реализуем свой стекинг\n",
    "        train, valid, train_true, valid_true = train_test_split(data_train, \n",
    "                                                        targets_train,\n",
    "                                                        test_size=test_size,\n",
    "                                                        random_state=17)\n",
    "                                                                    # зададим train и valid выборки\n",
    "            \n",
    "        meta_mtrx = np.empty((valid.shape[0], len(models)))         #определим матрицу мета признаков\n",
    "                                                                    \n",
    "            \n",
    "        for n, model in enumerate(models):                          # заполним матрицу признаков значениями predict\n",
    "            model.fit(train, train_true)                            # наших моделей\n",
    "            meta_mtrx[:, n] = model.predict(valid)\n",
    "        \n",
    "        meta_model = meta_alg.fit(meta_mtrx, valid_true)            # обучим мета-алгоритм на нашей матрице мета признаков\n",
    "        \n",
    "        meta_mtrx_test = np.empty((data_test.shape[0], len(models)))# определим матрицу для мета признаков при обучении\n",
    "        for n, model in enumerate(models):                          # на тестовых данных\n",
    "            meta_mtrx_test[:, n] = model.predict(data_test)\n",
    "        \n",
    "        meta_predict = meta_model.predict(meta_mtrx_test)           # сделаем предикт для матрицы meta_mtrx_test\n",
    "        \n",
    "        if targets_test != None:                                    # выведем roc_auc_score\n",
    "            roc_auc = roc_auc_score(targets_test, meta_predict)\n",
    "            print(f'Stacking AUC: {roc_auc_score(targets_test, meta_predict)}')\n",
    "            \n",
    "        return meta_predict\n",
    "    \n",
    "    else:                                                           # вернём ошибку, если размер выборки находится\n",
    "                                                                    # за перделами 0 - 1 \n",
    "        raise ValueError(\"test_size must be between 0 and 1\")"
   ]
  },
  {
   "cell_type": "markdown",
   "metadata": {
    "colab_type": "text",
    "id": "ktP_ZympNqBx"
   },
   "source": [
    "Базовая функция стекинга готова. Теперь проверим, как она работает. Ниже представлен датасет Titanic, разделенный на тренировочный и тестовый датасеты; предопределенные базовые алгоритмы и мета-алгоритм. Cоставим список базовых алгоритмов и запустим функцию в трех различных вариантах (при этом в каждом из них все значения data_train, targets_train, data_test, targets_test должны быть определены):\n",
    "\n",
    "1. Вызвать исключение \"test_size must be between 0 and 1\".\n",
    "\n",
    "2. Установить test_size=0.3; вывести AUC и массив полученных предсказаний.\n",
    "\n",
    "3. Оставить test_size=None; вывести AUC и массив полученных предсказаний."
   ]
  },
  {
   "cell_type": "code",
   "execution_count": 5,
   "metadata": {
    "colab": {},
    "colab_type": "code",
    "id": "2kJT4LjRNqBx"
   },
   "outputs": [],
   "source": [
    "from sklearn.neighbors import KNeighborsClassifier\n",
    "from sklearn.linear_model import LogisticRegression\n",
    "from sklearn.svm import SVC\n",
    "from xgboost import XGBClassifier\n",
    "\n",
    "from sklearn.model_selection import cross_val_predict\n",
    "\n",
    "\n",
    "titanic = pd.read_csv('./9.7_titanic.csv')\n",
    "targets = titanic.Survived\n",
    "data = titanic.drop(columns='Survived')\n",
    "\n",
    "x_train, x_test, y_train, y_test = train_test_split(data, \n",
    "                                                    targets,\n",
    "                                                    train_size=0.8,\n",
    "                                                    random_state=17)\n",
    "\n",
    "knn = KNeighborsClassifier(n_neighbors=3)\n",
    "lr = LogisticRegression(random_state=17)\n",
    "svc = SVC(random_state=17)\n",
    "\n",
    "models = [knn, lr, svc]\n",
    "meta_alg = XGBClassifier(n_estimators=40)"
   ]
  },
  {
   "cell_type": "markdown",
   "metadata": {},
   "source": [
    "##### 1.Вызвать исключение \"test_size must be between 0 and 1\"."
   ]
  },
  {
   "cell_type": "code",
   "execution_count": 6,
   "metadata": {},
   "outputs": [
    {
     "ename": "ValueError",
     "evalue": "test_size must be between 0 and 1",
     "output_type": "error",
     "traceback": [
      "\u001b[1;31m---------------------------------------------------------------------------\u001b[0m",
      "\u001b[1;31mValueError\u001b[0m                                Traceback (most recent call last)",
      "\u001b[1;32m<ipython-input-6-e338b4ee55e9>\u001b[0m in \u001b[0;36m<module>\u001b[1;34m\u001b[0m\n\u001b[0;32m      4\u001b[0m          \u001b[0mtargets_train\u001b[0m\u001b[1;33m=\u001b[0m\u001b[0my_train\u001b[0m\u001b[1;33m,\u001b[0m\u001b[1;33m\u001b[0m\u001b[1;33m\u001b[0m\u001b[0m\n\u001b[0;32m      5\u001b[0m          \u001b[0mdata_test\u001b[0m\u001b[1;33m=\u001b[0m\u001b[0mx_test\u001b[0m\u001b[1;33m,\u001b[0m\u001b[1;33m\u001b[0m\u001b[1;33m\u001b[0m\u001b[0m\n\u001b[1;32m----> 6\u001b[1;33m          test_size=5)\n\u001b[0m",
      "\u001b[1;32m<ipython-input-4-e53496898720>\u001b[0m in \u001b[0;36mstacking\u001b[1;34m(models, meta_alg, data_train, targets_train, data_test, targets_test, random_state, test_size, cv)\u001b[0m\n\u001b[0;32m     66\u001b[0m     \u001b[1;32melse\u001b[0m\u001b[1;33m:\u001b[0m                                                           \u001b[1;31m# вернём ошибку, если размер выборки находится\u001b[0m\u001b[1;33m\u001b[0m\u001b[1;33m\u001b[0m\u001b[0m\n\u001b[0;32m     67\u001b[0m                                                                     \u001b[1;31m# за перделами 0 - 1\u001b[0m\u001b[1;33m\u001b[0m\u001b[1;33m\u001b[0m\u001b[1;33m\u001b[0m\u001b[0m\n\u001b[1;32m---> 68\u001b[1;33m         \u001b[1;32mraise\u001b[0m \u001b[0mValueError\u001b[0m\u001b[1;33m(\u001b[0m\u001b[1;34m\"test_size must be between 0 and 1\"\u001b[0m\u001b[1;33m)\u001b[0m\u001b[1;33m\u001b[0m\u001b[1;33m\u001b[0m\u001b[0m\n\u001b[0m",
      "\u001b[1;31mValueError\u001b[0m: test_size must be between 0 and 1"
     ]
    }
   ],
   "source": [
    "stacking(models=models,\n",
    "         meta_alg=meta_alg,\n",
    "         data_train=x_train,\n",
    "         targets_train=y_train,\n",
    "         data_test=x_test,\n",
    "         test_size=5)"
   ]
  },
  {
   "cell_type": "markdown",
   "metadata": {},
   "source": [
    "##### 2.Установить test_size=0.3; вывести AUC и массив полученных предсказаний."
   ]
  },
  {
   "cell_type": "code",
   "execution_count": 7,
   "metadata": {},
   "outputs": [],
   "source": [
    "meta_predict = stacking(models=models,\n",
    "         meta_alg=meta_alg,\n",
    "         data_train=x_train,\n",
    "         targets_train=y_train,\n",
    "         data_test=x_test,\n",
    "         test_size=.3)"
   ]
  },
  {
   "cell_type": "code",
   "execution_count": 8,
   "metadata": {},
   "outputs": [
    {
     "name": "stdout",
     "output_type": "stream",
     "text": [
      "Stacking AUC: 0.7403721891961748\n"
     ]
    }
   ],
   "source": [
    "print(f'Stacking AUC: {roc_auc_score(y_test.values, meta_predict)}')"
   ]
  },
  {
   "cell_type": "markdown",
   "metadata": {},
   "source": [
    "##### 3.Оставить test_size=None; вывести AUC и массив полученных предсказаний."
   ]
  },
  {
   "cell_type": "code",
   "execution_count": 9,
   "metadata": {},
   "outputs": [],
   "source": [
    "meta_predict = stacking(models=models,\n",
    "         meta_alg=meta_alg,\n",
    "         data_train=x_train,\n",
    "         targets_train=y_train,\n",
    "         data_test=x_test)"
   ]
  },
  {
   "cell_type": "code",
   "execution_count": 10,
   "metadata": {},
   "outputs": [
    {
     "name": "stdout",
     "output_type": "stream",
     "text": [
      "Stacking AUC: 0.7601447402429569\n"
     ]
    }
   ],
   "source": [
    "print(f'Stacking AUC: {roc_auc_score(y_test.values, meta_predict)}')"
   ]
  }
 ],
 "metadata": {
  "colab": {
   "name": "jun_ml_extra_tech_stack-hw.ipynb",
   "provenance": []
  },
  "kernelspec": {
   "display_name": "Python 3",
   "language": "python",
   "name": "python3"
  },
  "language_info": {
   "codemirror_mode": {
    "name": "ipython",
    "version": 3
   },
   "file_extension": ".py",
   "mimetype": "text/x-python",
   "name": "python",
   "nbconvert_exporter": "python",
   "pygments_lexer": "ipython3",
   "version": "3.7.4"
  }
 },
 "nbformat": 4,
 "nbformat_minor": 1
}
